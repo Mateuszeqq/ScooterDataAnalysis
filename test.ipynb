{
 "cells": [
  {
   "cell_type": "code",
   "execution_count": 6,
   "metadata": {},
   "outputs": [],
   "source": [
    "import pandas as pd\n",
    "import folium\n",
    "import holidays\n",
    "\n",
    "# Load and sample the data\n",
    "df = pd.read_csv('chicago.csv')\n",
    "# df = pd.read_csv('chicago.csv').sample(frac=0.05)\n",
    "df = df.drop(columns=['Trip ID', 'Start Centroid Location', 'End Centroid Location'])\n",
    "df = df.dropna()\n",
    "\n",
    "\n",
    "df.columns = df.columns.str.replace(' ', '')\n",
    "# Convert columns to appropriate data types\n",
    "df['StartTime'] = pd.to_datetime(df['StartTime'])\n",
    "df['EndTime'] = pd.to_datetime(df['EndTime'])\n",
    "\n",
    "df['TripDistance'] = df['TripDistance'].str.replace(',', '.').astype(float)\n",
    "df['TripDuration'] = df['TripDuration'].str.replace(',', '.').astype(float)"
   ]
  },
  {
   "cell_type": "code",
   "execution_count": 7,
   "metadata": {},
   "outputs": [],
   "source": [
    "us_holidays = holidays.UnitedStates()\n",
    "\n",
    "def is_holiday(date):\n",
    "    return date in us_holidays\n",
    "\n",
    "df['IsHoliday'] = df['StartTime'].apply(is_holiday)"
   ]
  },
  {
   "cell_type": "code",
   "execution_count": 8,
   "metadata": {},
   "outputs": [],
   "source": [
    "df['StartDayOfWeek'] = df['StartTime'].dt.dayofweek\n",
    "df['EndDayOfWeek'] = df['EndTime'].dt.dayofweek\n",
    "\n",
    "df['StartDayOfWeekName'] = df['StartTime'].dt.day_name()\n",
    "df['EndDayOfWeekName'] = df['EndTime'].dt.day_name()"
   ]
  },
  {
   "cell_type": "code",
   "execution_count": 9,
   "metadata": {},
   "outputs": [
    {
     "name": "stdout",
     "output_type": "stream",
     "text": [
      "Min Start Time --> 2020-08-12 05:00:00\n",
      "Max Start Time --> 2020-12-12 21:00:00\n"
     ]
    }
   ],
   "source": [
    "print(f'Min Start Time --> {df[\"StartTime\"].min()}')\n",
    "print(f'Max Start Time --> {df[\"StartTime\"].max()}')"
   ]
  },
  {
   "cell_type": "code",
   "execution_count": null,
   "metadata": {},
   "outputs": [],
   "source": [
    "df['Vendor'].value_counts()"
   ]
  },
  {
   "cell_type": "code",
   "execution_count": 10,
   "metadata": {},
   "outputs": [],
   "source": [
    "# df = df.drop(columns=['Start_Time', 'End_Time'])\n",
    "df.to_csv('preprocessed_data.csv')"
   ]
  }
 ],
 "metadata": {
  "kernelspec": {
   "display_name": "venv",
   "language": "python",
   "name": "python3"
  },
  "language_info": {
   "codemirror_mode": {
    "name": "ipython",
    "version": 3
   },
   "file_extension": ".py",
   "mimetype": "text/x-python",
   "name": "python",
   "nbconvert_exporter": "python",
   "pygments_lexer": "ipython3",
   "version": "3.11.6"
  }
 },
 "nbformat": 4,
 "nbformat_minor": 2
}
